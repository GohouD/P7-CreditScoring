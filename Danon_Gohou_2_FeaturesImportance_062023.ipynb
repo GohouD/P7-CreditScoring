{
 "cells": [
  {
   "cell_type": "markdown",
   "id": "4fca1e86",
   "metadata": {},
   "source": [
    "# PROJET 7"
   ]
  },
  {
   "cell_type": "code",
   "execution_count": null,
   "id": "478c6f09",
   "metadata": {},
   "outputs": [],
   "source": []
  },
  {
   "cell_type": "code",
   "execution_count": 2,
   "id": "d3baf504",
   "metadata": {},
   "outputs": [
    {
     "data": {
      "text/plain": [
       "<Experiment: artifact_location='file:///Users/danongohou/Desktop/P7%20Implementer%20un%20modele%20de%20scoring/mlruns/854010955790355566', creation_time=1685533245664, experiment_id='854010955790355566', last_update_time=1685533245664, lifecycle_stage='active', name='Risk Scoring', tags={}>"
      ]
     },
     "execution_count": 2,
     "metadata": {},
     "output_type": "execute_result"
    }
   ],
   "source": [
    "import mlflow\n",
    "# demarrage d'une \"expérience\" \n",
    "mlflow.set_experiment(\"Risk Scoring\")"
   ]
  },
  {
   "cell_type": "code",
   "execution_count": 8,
   "id": "ae126587",
   "metadata": {},
   "outputs": [
    {
     "data": {
      "text/html": [
       "        <script type=\"text/javascript\">\n",
       "        window.PlotlyConfig = {MathJaxConfig: 'local'};\n",
       "        if (window.MathJax && window.MathJax.Hub && window.MathJax.Hub.Config) {window.MathJax.Hub.Config({SVG: {font: \"STIX-Web\"}});}\n",
       "        if (typeof require !== 'undefined') {\n",
       "        require.undef(\"plotly\");\n",
       "        requirejs.config({\n",
       "            paths: {\n",
       "                'plotly': ['https://cdn.plot.ly/plotly-2.20.0.min']\n",
       "            }\n",
       "        });\n",
       "        require(['plotly'], function(Plotly) {\n",
       "            window._Plotly = Plotly;\n",
       "        });\n",
       "        }\n",
       "        </script>\n",
       "        "
      ]
     },
     "metadata": {},
     "output_type": "display_data"
    }
   ],
   "source": [
    "# numpy and pandas for data manipulation\n",
    "import numpy as np\n",
    "import pandas as pd \n",
    "\n",
    "import matplotlib.pyplot as plt\n",
    "import seaborn as sns\n",
    "import missingno as msno\n",
    "from dataprep import eda\n",
    "import qgrid\n",
    "import plotly.express as px\n",
    "from plotly.offline import init_notebook_mode\n",
    "init_notebook_mode(connected = True)\n",
    "import joblib \n",
    "from numba import njit\n",
    "from numba import generated_jit\n",
    "from numba import types\n",
    "\n",
    "%matplotlib inline \n",
    "\n",
    "import gc\n",
    "import time\n",
    "from contextlib import contextmanager\n",
    "# File system manangement\n",
    "import os\n",
    "import os.path\n",
    "from os import path \n",
    "\n",
    "# sklearn preprocessing for dealing with categorical variables\n",
    "from sklearn.preprocessing import LabelEncoder\n",
    "from sklearn.preprocessing import MinMaxScaler\n",
    "from sklearn.preprocessing import RobustScaler\n",
    "from sklearn.preprocessing import StandardScaler\n",
    "\n",
    "from sklearn.model_selection import train_test_split \n",
    "from sklearn.model_selection import StratifiedShuffleSplit\n",
    "from sklearn.model_selection import GridSearchCV\n",
    "from sklearn.model_selection import GridSearchCV\n",
    "from sklearn.model_selection import RandomizedSearchCV\n",
    "from sklearn.model_selection import KFold\n",
    "from sklearn.model_selection import StratifiedKFold\n",
    "from sklearn.model_selection import cross_val_score\n",
    "from sklearn.model_selection import cross_validate\n",
    "from sklearn.metrics import average_precision_score\n",
    "from sklearn.metrics import make_scorer\n",
    "\n",
    "from sklearn.impute import SimpleImputer\n",
    "from sklearn.metrics import accuracy_score\n",
    "from sklearn.metrics import roc_auc_score\n",
    "from sklearn.metrics import f1_score\n",
    "from sklearn.metrics import fbeta_score\n",
    "from sklearn.metrics import precision_score\n",
    "from sklearn.metrics import recall_score\n",
    "\n",
    "from sklearn.compose import make_column_transformer\n",
    "from sklearn.compose import make_column_selector\n",
    "from sklearn.compose import TransformedTargetRegressor\n",
    "from sklearn.compose import ColumnTransformer\n",
    "from sklearn.datasets import make_classification\n",
    "\n",
    "from collections import Counter\n",
    "\n",
    "from imblearn.over_sampling import SMOTE \n",
    "from imblearn.combine import SMOTETomek\n",
    "from imblearn.under_sampling import RandomUnderSampler\n",
    "from imblearn.over_sampling import ADASYN\n",
    "from imblearn.under_sampling import TomekLinks\n",
    "\n",
    "import scipy.stats as stats\n",
    "\n",
    "from lightgbm import LGBMClassifier\n",
    "from xgboost import XGBClassifier\n",
    "from sklearn.linear_model import LogisticRegression\n",
    "from sklearn.ensemble import RandomForestClassifier\n",
    "from imblearn.pipeline import Pipeline\n",
    "import shap\n",
    "import pickle\n",
    "import joblib\n",
    "\n",
    "@contextmanager\n",
    "def timer(title):\n",
    "    t0 = time.time()\n",
    "    yield\n",
    "    print(\"{} - done in {:.0f}s\".format(title, time.time() - t0))\n",
    "\n",
    "bleu = (70 / 255, 130 / 255, 180 / 255)\n",
    "pd.set_option('display.max_row', 219)\n",
    "pd.set_option('display.max_column', 243)\n",
    "pd.set_option('display.max_colwidth', 50)\n",
    "\n",
    "# Suppress warnings \n",
    "import warnings\n",
    "warnings.filterwarnings('ignore')"
   ]
  },
  {
   "cell_type": "code",
   "execution_count": null,
   "id": "4b29df58",
   "metadata": {},
   "outputs": [],
   "source": []
  },
  {
   "cell_type": "code",
   "execution_count": 4,
   "id": "e356382f",
   "metadata": {},
   "outputs": [
    {
     "data": {
      "text/plain": [
       "<ActiveRun: >"
      ]
     },
     "execution_count": 4,
     "metadata": {},
     "output_type": "execute_result"
    }
   ],
   "source": [
    "mlflow.start_run(run_name='Features Importance') "
   ]
  },
  {
   "cell_type": "markdown",
   "id": "3ae4e1db",
   "metadata": {},
   "source": [
    "## LGBM"
   ]
  },
  {
   "cell_type": "code",
   "execution_count": 5,
   "id": "c07bbe36",
   "metadata": {},
   "outputs": [],
   "source": [
    "# Charger les descripteurs ORB extraits dans la question précédente\n",
    "with open('./data/data_for_modelling_final.pickle', 'rb') as f:\n",
    "    data_for_modelling = pickle.load(f)"
   ]
  },
  {
   "cell_type": "code",
   "execution_count": 17,
   "id": "ad7633ac",
   "metadata": {},
   "outputs": [],
   "source": [
    "with open('./Models/model_lgbm.pkl', 'rb') as f:\n",
    "    model_lgbm = pickle.load(f)"
   ]
  },
  {
   "cell_type": "code",
   "execution_count": null,
   "id": "80a1ab36",
   "metadata": {},
   "outputs": [],
   "source": []
  },
  {
   "cell_type": "code",
   "execution_count": 11,
   "id": "eb393eb3",
   "metadata": {},
   "outputs": [],
   "source": [
    "X = data_for_modelling.copy()"
   ]
  },
  {
   "cell_type": "code",
   "execution_count": 12,
   "id": "607992f7",
   "metadata": {},
   "outputs": [],
   "source": [
    "y = X['TARGET']"
   ]
  },
  {
   "cell_type": "code",
   "execution_count": 13,
   "id": "1854c116",
   "metadata": {},
   "outputs": [],
   "source": [
    "X.drop(columns=['TARGET','SK_ID_CURR'],inplace=True)"
   ]
  },
  {
   "cell_type": "code",
   "execution_count": 14,
   "id": "f1ea4dc6",
   "metadata": {},
   "outputs": [],
   "source": [
    "X_test,X_train,y_test,y_train=train_test_split(X,y,test_size=0.20)\n",
    "\n",
    "# StandardScaler\n",
    "# Fit on the training data\n",
    "scaler = StandardScaler()\n",
    "\n",
    "X_train=scaler.fit_transform(X_train)\n",
    "X_test=scaler.fit_transform(X_test)"
   ]
  },
  {
   "cell_type": "code",
   "execution_count": 15,
   "id": "fa2aae06",
   "metadata": {},
   "outputs": [],
   "source": [
    "lgbm=LGBMClassifier(learning_rate=0.07, \n",
    "                    max_depth=3, \n",
    "                    n_estimators=200, \n",
    "                    num_leaves= 8)\n",
    "\n",
    "kfold = KFold(n_splits=5, shuffle=True, random_state=123)\n",
    "scoring = {'accuracy': 'accuracy',\n",
    "           'precision_weighted': 'precision_weighted',\n",
    "           'recall_weighted': 'recall_weighted',\n",
    "           'f1_weighted': 'f1_weighted',\n",
    "           'roc_auc': 'roc_auc',\n",
    "           'fbeta': make_scorer(fbeta_score, average='weighted', beta=3)       \n",
    "           # CREER LE SCORE METIER \n",
    "           }\n",
    "# CREER LE SCORE METIER "
   ]
  },
  {
   "cell_type": "code",
   "execution_count": 18,
   "id": "84a4fa63",
   "metadata": {},
   "outputs": [],
   "source": [
    "model = lgbm\n",
    "over = SMOTE(sampling_strategy=0.1)\n",
    "under = RandomUnderSampler(sampling_strategy=0.28)\n",
    "steps = [('over', over), ('under', under), ('model', model)]\n",
    "pipeline = Pipeline(steps=steps)\n",
    "\n",
    "kfold = KFold(n_splits=5, shuffle=True, random_state=123)\n",
    "cv_results = cross_validate(pipeline, X_train, y_train,\n",
    "                            cv=kfold, scoring=scoring)\n",
    "model_lgbm = model.fit(X_train, y_train)\n",
    "y_pred = model_lgbm.predict(X_test)\n",
    "\n"
   ]
  },
  {
   "cell_type": "code",
   "execution_count": 19,
   "id": "cda604aa",
   "metadata": {},
   "outputs": [
    {
     "data": {
      "text/html": [
       "<div>\n",
       "<style scoped>\n",
       "    .dataframe tbody tr th:only-of-type {\n",
       "        vertical-align: middle;\n",
       "    }\n",
       "\n",
       "    .dataframe tbody tr th {\n",
       "        vertical-align: top;\n",
       "    }\n",
       "\n",
       "    .dataframe thead th {\n",
       "        text-align: right;\n",
       "    }\n",
       "</style>\n",
       "<table border=\"1\" class=\"dataframe\">\n",
       "  <thead>\n",
       "    <tr style=\"text-align: right;\">\n",
       "      <th></th>\n",
       "      <th>fit_time</th>\n",
       "      <th>score_time</th>\n",
       "      <th>test_accuracy</th>\n",
       "      <th>test_precision_weighted</th>\n",
       "      <th>test_recall_weighted</th>\n",
       "      <th>test_f1_weighted</th>\n",
       "      <th>test_roc_auc</th>\n",
       "      <th>test_fbeta</th>\n",
       "    </tr>\n",
       "  </thead>\n",
       "  <tbody>\n",
       "    <tr>\n",
       "      <th>0</th>\n",
       "      <td>1.119043</td>\n",
       "      <td>0.05964</td>\n",
       "      <td>0.900359</td>\n",
       "      <td>0.878912</td>\n",
       "      <td>0.900359</td>\n",
       "      <td>0.887335</td>\n",
       "      <td>0.758826</td>\n",
       "      <td>0.897519</td>\n",
       "    </tr>\n",
       "  </tbody>\n",
       "</table>\n",
       "</div>"
      ],
      "text/plain": [
       "   fit_time  score_time  test_accuracy  test_precision_weighted   \n",
       "0  1.119043     0.05964       0.900359                 0.878912  \\\n",
       "\n",
       "   test_recall_weighted  test_f1_weighted  test_roc_auc  test_fbeta  \n",
       "0              0.900359          0.887335      0.758826    0.897519  "
      ]
     },
     "execution_count": 19,
     "metadata": {},
     "output_type": "execute_result"
    }
   ],
   "source": [
    "df = pd.DataFrame(cv_results)\n",
    "df_smote_rand=pd.DataFrame(df.mean(axis=0)).transpose()\n",
    "df_smote_rand"
   ]
  },
  {
   "cell_type": "markdown",
   "id": "a0d8d02c",
   "metadata": {},
   "source": [
    "## Explicabilité Globale"
   ]
  },
  {
   "cell_type": "code",
   "execution_count": null,
   "id": "1e1e976b",
   "metadata": {},
   "outputs": [],
   "source": [
    "shap.initjs()\n",
    "feats = [f for f in data_for_modelling.columns if f not in ['TARGET', 'SK_ID_CURR']]\n",
    "ex = shap.TreeExplainer(model_lgbm, X_train, feature_names = feats)\n",
    "shap_values = ex.shap_values(X_test)\n",
    "shap.summary_plot(shap_values, X_test, feature_names=X.columns, max_display=40)\n"
   ]
  },
  {
   "cell_type": "markdown",
   "id": "beb71683",
   "metadata": {},
   "source": [
    "## Explicabilité locale"
   ]
  },
  {
   "cell_type": "code",
   "execution_count": null,
   "id": "5748ce88",
   "metadata": {},
   "outputs": [],
   "source": [
    "shap.bar_plot(explainer.shap_values(X_test[10]), feature_names=np.array(feats), max_display=10)"
   ]
  },
  {
   "cell_type": "code",
   "execution_count": null,
   "id": "f7ae22af",
   "metadata": {},
   "outputs": [],
   "source": []
  },
  {
   "cell_type": "code",
   "execution_count": 21,
   "id": "6de28d4a",
   "metadata": {},
   "outputs": [],
   "source": [
    "mlflow.end_run()"
   ]
  },
  {
   "cell_type": "code",
   "execution_count": null,
   "id": "11789860",
   "metadata": {},
   "outputs": [
    {
     "name": "stdout",
     "output_type": "stream",
     "text": [
      "[2023-05-31 14:57:35 +0200] [4911] [INFO] Starting gunicorn 20.1.0\n",
      "[2023-05-31 14:57:35 +0200] [4911] [INFO] Listening at: http://127.0.0.1:5000 (4911)\n",
      "[2023-05-31 14:57:35 +0200] [4911] [INFO] Using worker: sync\n",
      "[2023-05-31 14:57:35 +0200] [4912] [INFO] Booting worker with pid: 4912\n",
      "[2023-05-31 14:57:35 +0200] [4913] [INFO] Booting worker with pid: 4913\n",
      "[2023-05-31 14:57:35 +0200] [4914] [INFO] Booting worker with pid: 4914\n",
      "[2023-05-31 14:57:35 +0200] [4915] [INFO] Booting worker with pid: 4915\n",
      "[2023-05-31 15:37:06 +0200] [4911] [CRITICAL] WORKER TIMEOUT (pid:4912)\n",
      "[2023-05-31 15:37:06 +0200] [4911] [CRITICAL] WORKER TIMEOUT (pid:4913)\n",
      "[2023-05-31 15:37:06 +0200] [4911] [CRITICAL] WORKER TIMEOUT (pid:4914)\n",
      "[2023-05-31 15:37:06 +0200] [4911] [CRITICAL] WORKER TIMEOUT (pid:4915)\n",
      "[2023-05-31 15:37:06 +0200] [4912] [INFO] Worker exiting (pid: 4912)\n",
      "[2023-05-31 15:37:06 +0200] [4913] [INFO] Worker exiting (pid: 4913)\n",
      "[2023-05-31 15:37:06 +0200] [4914] [INFO] Worker exiting (pid: 4914)\n",
      "[2023-05-31 15:37:06 +0200] [4915] [INFO] Worker exiting (pid: 4915)\n",
      "[2023-05-31 15:37:06 +0200] [5094] [INFO] Booting worker with pid: 5094\n",
      "[2023-05-31 15:37:06 +0200] [5095] [INFO] Booting worker with pid: 5095\n",
      "[2023-05-31 15:37:06 +0200] [5096] [INFO] Booting worker with pid: 5096\n",
      "[2023-05-31 15:37:06 +0200] [5097] [INFO] Booting worker with pid: 5097\n",
      "[2023-05-31 15:55:20 +0200] [4911] [CRITICAL] WORKER TIMEOUT (pid:5094)\n",
      "[2023-05-31 15:55:20 +0200] [4911] [CRITICAL] WORKER TIMEOUT (pid:5095)\n",
      "[2023-05-31 15:55:20 +0200] [4911] [CRITICAL] WORKER TIMEOUT (pid:5096)\n",
      "[2023-05-31 15:55:20 +0200] [4911] [CRITICAL] WORKER TIMEOUT (pid:5097)\n",
      "[2023-05-31 15:55:20 +0200] [5095] [INFO] Worker exiting (pid: 5095)\n",
      "[2023-05-31 15:55:20 +0200] [5094] [INFO] Worker exiting (pid: 5094)\n",
      "[2023-05-31 15:55:20 +0200] [5097] [INFO] Worker exiting (pid: 5097)\n",
      "[2023-05-31 15:55:20 +0200] [5096] [INFO] Worker exiting (pid: 5096)\n",
      "[2023-05-31 15:55:20 +0200] [5105] [INFO] Booting worker with pid: 5105\n",
      "[2023-05-31 15:55:20 +0200] [5106] [INFO] Booting worker with pid: 5106\n",
      "[2023-05-31 15:55:20 +0200] [5107] [INFO] Booting worker with pid: 5107\n",
      "[2023-05-31 15:55:20 +0200] [5108] [INFO] Booting worker with pid: 5108\n",
      "[2023-05-31 16:02:23 +0200] [4911] [CRITICAL] WORKER TIMEOUT (pid:5105)\n",
      "[2023-05-31 16:02:23 +0200] [4911] [CRITICAL] WORKER TIMEOUT (pid:5106)\n",
      "[2023-05-31 16:02:23 +0200] [4911] [CRITICAL] WORKER TIMEOUT (pid:5107)\n",
      "[2023-05-31 16:02:23 +0200] [4911] [CRITICAL] WORKER TIMEOUT (pid:5108)\n",
      "[2023-05-31 16:02:23 +0200] [5108] [INFO] Worker exiting (pid: 5108)\n",
      "[2023-05-31 16:02:23 +0200] [5105] [INFO] Worker exiting (pid: 5105)\n",
      "[2023-05-31 16:02:23 +0200] [5106] [INFO] Worker exiting (pid: 5106)\n",
      "[2023-05-31 16:02:23 +0200] [5107] [INFO] Worker exiting (pid: 5107)\n",
      "[2023-05-31 16:02:23 +0200] [5131] [INFO] Booting worker with pid: 5131\n",
      "[2023-05-31 16:02:23 +0200] [5132] [INFO] Booting worker with pid: 5132\n",
      "[2023-05-31 16:02:23 +0200] [5133] [INFO] Booting worker with pid: 5133\n",
      "[2023-05-31 16:02:23 +0200] [5134] [INFO] Booting worker with pid: 5134\n"
     ]
    }
   ],
   "source": [
    "!mlflow ui "
   ]
  },
  {
   "cell_type": "code",
   "execution_count": null,
   "id": "34f98963",
   "metadata": {},
   "outputs": [],
   "source": []
  }
 ],
 "metadata": {
  "kernelspec": {
   "display_name": "Python 3 (ipykernel)",
   "language": "python",
   "name": "python3"
  },
  "language_info": {
   "codemirror_mode": {
    "name": "ipython",
    "version": 3
   },
   "file_extension": ".py",
   "mimetype": "text/x-python",
   "name": "python",
   "nbconvert_exporter": "python",
   "pygments_lexer": "ipython3",
   "version": "3.9.16"
  }
 },
 "nbformat": 4,
 "nbformat_minor": 5
}
